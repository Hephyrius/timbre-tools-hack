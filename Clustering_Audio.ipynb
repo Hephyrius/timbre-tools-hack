{
 "cells": [
  {
   "cell_type": "code",
   "execution_count": 1,
   "id": "211f9b31-590d-45e7-bb2e-a404581d1bba",
   "metadata": {},
   "outputs": [],
   "source": [
    "from audiodiffusion.audio_encoder import AudioEncoder\n",
    "import torchaudio\n",
    "import os\n",
    "from tqdm import tqdm\n",
    "import random as r\n",
    "# from sklearn import KMeans\n",
    "from sklearn.cluster import KMeans\n",
    "from sklearn.decomposition import PCA"
   ]
  },
  {
   "cell_type": "code",
   "execution_count": 2,
   "id": "f8ca854b-1ceb-4e46-a4e6-eff60eb163ee",
   "metadata": {},
   "outputs": [
    {
     "name": "stderr",
     "output_type": "stream",
     "text": [
      "Cannot initialize model with low cpu memory usage because `accelerate` was not found in the environment. Defaulting to `low_cpu_mem_usage=False`. It is strongly recommended to install `accelerate` for faster and less memory-intense model loading. You can do so with: \n",
      "```\n",
      "pip install accelerate\n",
      "```\n",
      ".\n"
     ]
    }
   ],
   "source": [
    "#https://huggingface.co/teticio/audio-encoder\n",
    "audio_encoder = AudioEncoder.from_pretrained(\"teticio/audio-encoder\")"
   ]
  },
  {
   "cell_type": "code",
   "execution_count": null,
   "id": "380caa1f-2806-45cb-a4c0-9e96023dfdcf",
   "metadata": {},
   "outputs": [
    {
     "name": "stderr",
     "output_type": "stream",
     "text": [
      "  6%|███████▍                                                                                                                             | 1518/27131 [01:32<23:52, 17.88it/s]"
     ]
    }
   ],
   "source": [
    "path = \"data/rendered_audio/rendered_audio/\"\n",
    "files = os.listdir(path)\n",
    "r.shuffle(files)\n",
    "fs = []\n",
    "embeddings = []\n",
    "\n",
    "for file in tqdm(files):\n",
    "    if \".flac\" in file:\n",
    "        full_path = path + file\n",
    "        fs.append(full_path)\n",
    "        audio, _ = torchaudio.load(full_path)\n",
    "        encoding = audio_encoder.encode([full_path])\n",
    "        embeddings.append(encoding.squeeze(0).numpy())\n",
    "\n"
   ]
  },
  {
   "cell_type": "code",
   "execution_count": null,
   "id": "aa81d876-f94a-4bb5-9b96-56bd00009a00",
   "metadata": {},
   "outputs": [],
   "source": [
    "pca = PCA(n_components=2, svd_solver='full')\n",
    "pca_ = pca.fit_transform(embeddings)"
   ]
  },
  {
   "cell_type": "code",
   "execution_count": null,
   "id": "e4cbde83-ec6c-4769-a906-f04ed849fc01",
   "metadata": {},
   "outputs": [],
   "source": [
    "kmean_model = KMeans(n_clusters=6).fit(embeddings)"
   ]
  },
  {
   "cell_type": "code",
   "execution_count": null,
   "id": "c8f7ca6c-a26e-4043-91e0-27f458d69c07",
   "metadata": {},
   "outputs": [],
   "source": [
    "labels = kmean_model.predict(embeddings)"
   ]
  },
  {
   "cell_type": "code",
   "execution_count": null,
   "id": "4adbdf31-50bb-458f-9b1a-013a19031ff2",
   "metadata": {},
   "outputs": [],
   "source": [
    "feature_a = []\n",
    "feature_b = []\n",
    "\n",
    "for i in pca_:\n",
    "    feature_a.append(i[0])\n",
    "    feature_b.append(i[1])"
   ]
  },
  {
   "cell_type": "code",
   "execution_count": null,
   "id": "1145fa6e-5101-436c-b30a-b4d07fad33fe",
   "metadata": {},
   "outputs": [],
   "source": [
    "import matplotlib.pyplot as plt\n",
    " \n",
    "#plotting the results\n",
    "plt.scatter(feature_a, feature_b, c=labels)\n",
    "plt.show()"
   ]
  },
  {
   "cell_type": "code",
   "execution_count": null,
   "id": "33e8d43b-dd6f-4ff7-a989-633ec200bdfb",
   "metadata": {},
   "outputs": [],
   "source": [
    "import pandas as pd\n",
    "\n",
    "df = pd.DataFrame()\n",
    "df['file'] = fs[:23900]\n",
    "df['label'] = labels[:23900]"
   ]
  },
  {
   "cell_type": "code",
   "execution_count": null,
   "id": "02e48fa1-b4cc-4978-bb3f-00f107a33694",
   "metadata": {},
   "outputs": [],
   "source": [
    "df"
   ]
  },
  {
   "cell_type": "code",
   "execution_count": null,
   "id": "cef25261-5e45-4569-80f5-944d05777af0",
   "metadata": {},
   "outputs": [],
   "source": []
  },
  {
   "cell_type": "code",
   "execution_count": null,
   "id": "8884a1a6-455b-45ff-ab82-bd1767c33a38",
   "metadata": {},
   "outputs": [],
   "source": []
  },
  {
   "cell_type": "code",
   "execution_count": null,
   "id": "3e56e8bf-47a5-40d2-902e-ee506b49c99a",
   "metadata": {},
   "outputs": [],
   "source": []
  }
 ],
 "metadata": {
  "kernelspec": {
   "display_name": "Python 3 (ipykernel)",
   "language": "python",
   "name": "python3"
  },
  "language_info": {
   "codemirror_mode": {
    "name": "ipython",
    "version": 3
   },
   "file_extension": ".py",
   "mimetype": "text/x-python",
   "name": "python",
   "nbconvert_exporter": "python",
   "pygments_lexer": "ipython3",
   "version": "3.11.4"
  }
 },
 "nbformat": 4,
 "nbformat_minor": 5
}
