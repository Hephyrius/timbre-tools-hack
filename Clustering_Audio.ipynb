{
 "cells": [
  {
   "cell_type": "code",
   "execution_count": 12,
   "id": "211f9b31-590d-45e7-bb2e-a404581d1bba",
   "metadata": {},
   "outputs": [],
   "source": [
    "from audiodiffusion.audio_encoder import AudioEncoder\n",
    "import torchaudio\n",
    "import os\n",
    "from tqdm import tqdm\n",
    "import random as r\n",
    "# from sklearn import KMeans\n",
    "from sklearn.cluster import KMeans"
   ]
  },
  {
   "cell_type": "code",
   "execution_count": 25,
   "id": "f8ca854b-1ceb-4e46-a4e6-eff60eb163ee",
   "metadata": {},
   "outputs": [
    {
     "name": "stderr",
     "output_type": "stream",
     "text": [
      "Cannot initialize model with low cpu memory usage because `accelerate` was not found in the environment. Defaulting to `low_cpu_mem_usage=False`. It is strongly recommended to install `accelerate` for faster and less memory-intense model loading. You can do so with: \n",
      "```\n",
      "pip install accelerate\n",
      "```\n",
      ".\n"
     ]
    }
   ],
   "source": [
    "#https://huggingface.co/teticio/audio-encoder\n",
    "audio_encoder = AudioEncoder.from_pretrained(\"teticio/audio-encoder\")"
   ]
  },
  {
   "cell_type": "code",
   "execution_count": 26,
   "id": "380caa1f-2806-45cb-a4c0-9e96023dfdcf",
   "metadata": {},
   "outputs": [
    {
     "name": "stderr",
     "output_type": "stream",
     "text": [
      "100%|████████| 100/100 [00:05<00:00, 18.25it/s]\n"
     ]
    }
   ],
   "source": [
    "path = \"data/rendered_audio/rendered_audio/\"\n",
    "files = os.listdir(path)\n",
    "r.shuffle(files)\n",
    "fs = []\n",
    "embeddings = []\n",
    "\n",
    "for file in tqdm(files[:100]):\n",
    "    if \".flac\" in file:\n",
    "        full_path = path + file\n",
    "        fs.append(full_path)\n",
    "        audio, _ = torchaudio.load(full_path)\n",
    "        encoding = audio_encoder.encode([full_path])\n",
    "        embeddings.append(encoding.squeeze(0).numpy())\n",
    "\n"
   ]
  },
  {
   "cell_type": "code",
   "execution_count": 27,
   "id": "e4cbde83-ec6c-4769-a906-f04ed849fc01",
   "metadata": {},
   "outputs": [],
   "source": [
    "kmeanModel = KMeans(n_clusters=2).fit(encodings)"
   ]
  },
  {
   "cell_type": "code",
   "execution_count": 28,
   "id": "1145fa6e-5101-436c-b30a-b4d07fad33fe",
   "metadata": {},
   "outputs": [
    {
     "data": {
      "text/plain": [
       "array([  36.537807  ,   50.830666  ,  -54.12584   ,   92.75671   ,\n",
       "        -27.833855  ,   14.983583  ,   -2.5084019 ,   18.42607   ,\n",
       "        -26.458656  ,   -1.8970935 ,    3.8541515 ,   66.29794   ,\n",
       "        -19.557291  ,   50.102016  ,   -6.5089293 ,   50.396187  ,\n",
       "         49.01052   ,   28.227583  ,  -17.893633  ,  -37.738766  ,\n",
       "        -13.8838825 ,   62.095383  ,    8.665952  ,   70.00148   ,\n",
       "        -38.611176  ,   99.22986   ,  -67.8202    ,   47.719288  ,\n",
       "         45.841824  ,   49.857403  ,   40.50237   ,    0.19004533,\n",
       "         -4.06607   ,   16.752302  ,  -36.260296  ,   28.942316  ,\n",
       "        121.35594   ,   -2.9885635 ,   -2.756867  ,  100.18478   ,\n",
       "         -2.4316032 ,  -35.24202   ,   18.645142  ,  -19.301155  ,\n",
       "          1.8843265 ,   27.007269  ,   46.14515   ,  -58.897156  ,\n",
       "        104.47957   ,   10.433294  ,    7.826271  ,  -25.132862  ,\n",
       "         24.50602   , -132.44623   ,  -16.947086  ,  -63.83725   ,\n",
       "          7.4761343 ,  -17.814379  ,   42.437332  ,   31.574034  ,\n",
       "        -36.317394  ,  -60.32086   ,  -23.561604  ,   58.272003  ,\n",
       "        -17.651358  ,  -69.61511   ,  -56.36193   ,    5.4486966 ,\n",
       "        -78.87044   ,  -45.534515  ,  -91.6812    ,    9.227575  ,\n",
       "        -45.25873   ,  -31.042074  ,  -22.907734  ,  -54.44133   ,\n",
       "         -3.4972923 ,  -14.507973  ,  -20.76332   ,   33.714386  ,\n",
       "         44.8633    ,  -74.476105  ,  -47.073544  ,   39.820465  ,\n",
       "         24.348505  ,  -28.364521  ,   19.59262   ,   30.944447  ,\n",
       "        -27.767294  ,  -12.597792  ,   27.618608  ,   38.32688   ,\n",
       "         -5.0153456 ,   30.577791  ,   81.60318   ,  -44.901382  ,\n",
       "        -14.21955   ,  -32.285477  ,   57.74387   ,   -0.8977003 ],\n",
       "      dtype=float32)"
      ]
     },
     "execution_count": 28,
     "metadata": {},
     "output_type": "execute_result"
    }
   ],
   "source": [
    "encodings[4]"
   ]
  },
  {
   "cell_type": "code",
   "execution_count": null,
   "id": "74a5ea62-8de9-4b77-907a-354c389d7a03",
   "metadata": {},
   "outputs": [],
   "source": []
  },
  {
   "cell_type": "code",
   "execution_count": null,
   "id": "33e8d43b-dd6f-4ff7-a989-633ec200bdfb",
   "metadata": {},
   "outputs": [],
   "source": []
  }
 ],
 "metadata": {
  "kernelspec": {
   "display_name": "Python 3 (ipykernel)",
   "language": "python",
   "name": "python3"
  },
  "language_info": {
   "codemirror_mode": {
    "name": "ipython",
    "version": 3
   },
   "file_extension": ".py",
   "mimetype": "text/x-python",
   "name": "python",
   "nbconvert_exporter": "python",
   "pygments_lexer": "ipython3",
   "version": "3.11.4"
  }
 },
 "nbformat": 4,
 "nbformat_minor": 5
}
