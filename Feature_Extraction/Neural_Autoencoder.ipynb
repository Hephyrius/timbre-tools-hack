{
 "cells": [
  {
   "cell_type": "code",
   "execution_count": 1,
   "id": "211f9b31-590d-45e7-bb2e-a404581d1bba",
   "metadata": {},
   "outputs": [
    {
     "name": "stdout",
     "output_type": "stream",
     "text": [
      "True\n"
     ]
    }
   ],
   "source": [
    "import auraloss\n",
    "import collections\n",
    "import librosa\n",
    "import matplotlib.pyplot as plt\n",
    "import numpy as np\n",
    "import os\n",
    "import pickle\n",
    "import plotly.graph_objects as go\n",
    "import pretty_midi\n",
    "import pytorch_lightning as pl\n",
    "import pywt\n",
    "import random\n",
    "import scipy.signal\n",
    "import sklearn\n",
    "from sklearn.cluster import KMeans\n",
    "from sklearn.decomposition import PCA\n",
    "import torch\n",
    "import torch.nn as nn\n",
    "import torch.nn.functional as F\n",
    "import torch.optim as optim\n",
    "from torch.optim import lr_scheduler\n",
    "import torchaudio\n",
    "from torch.utils.data import DataLoader, Dataset\n",
    "import wandb\n",
    "from pytorch_lightning.loggers import WandbLogger\n",
    "from tqdm import tqdm\n",
    "\n",
    "print(torch.cuda.is_available())\n"
   ]
  },
  {
   "cell_type": "markdown",
   "id": "2ae7c64b-5c45-4d34-a716-7c00c5b8a608",
   "metadata": {},
   "source": [
    "# Set Seeds"
   ]
  },
  {
   "cell_type": "code",
   "execution_count": 2,
   "id": "66ab3b5d-0603-4d2c-8836-d44b5d081625",
   "metadata": {},
   "outputs": [],
   "source": [
    "seed_value = 3407\n",
    "torch.manual_seed(seed_value)\n",
    "random.seed(seed_value)\n",
    "np.random.seed(seed_value)\n",
    "torch.cuda.manual_seed(seed_value)\n",
    "torch.cuda.manual_seed_all(seed_value)\n",
    "torch.set_float32_matmul_precision('high')"
   ]
  },
  {
   "cell_type": "markdown",
   "id": "151194b5-0e2c-4acc-a4da-75e6b8fc8806",
   "metadata": {},
   "source": [
    "# caching audio\n",
    "\n",
    "1) load audio from hard drive\n",
    "2) reduce sample rate from 44100 to 32000 (this is primarily to save ram)\n",
    "3) store in data structure"
   ]
  },
  {
   "cell_type": "code",
   "execution_count": 3,
   "id": "220ddba1-d2cc-499e-ab2c-2e6fe40d67a2",
   "metadata": {},
   "outputs": [
    {
     "name": "stderr",
     "output_type": "stream",
     "text": [
      "100%|███████████████████████████████████████████████████████████████████████████████████████████████████████████████████████████████████████████████████| 100/100 [00:00<00:00, 286.86it/s]\n"
     ]
    }
   ],
   "source": [
    "path = \"../data/rendered_audio/rendered_audio/\"\n",
    "files = os.listdir(path)\n",
    "all_scenes = {}\n",
    "counter = 0\n",
    "transform = torchaudio.transforms.Resample(44100, 32000)\n",
    "\n",
    "for file in tqdm(files):\n",
    "    if \".flac\" in file:\n",
    "        try:\n",
    "            full_path = path + file\n",
    "            audio, _ = torchaudio.load(full_path)\n",
    "            audio = transform(audio)\n",
    "            all_scenes[counter] = {'path':full_path, 'audio':audio, 'sr':32000}\n",
    "            counter += 1\n",
    "        except Exception as e:\n",
    "            print(\"error\", e)\n",
    "            \n"
   ]
  },
  {
   "cell_type": "markdown",
   "id": "3062e287-d23c-47c9-bf13-9ae99d8ddec3",
   "metadata": {},
   "source": [
    "# torch data generator"
   ]
  },
  {
   "cell_type": "code",
   "execution_count": 4,
   "id": "dec7c32c-5a0d-4881-95ab-cf005c705fe2",
   "metadata": {},
   "outputs": [],
   "source": [
    "class AudioDataGenerator(Dataset):\n",
    "    def __init__(self, data):\n",
    "        self.data = data\n",
    "\n",
    "    def __len__(self):\n",
    "        return len(self.data)\n",
    "\n",
    "    def __getitem__(self, idx):\n",
    "\n",
    "        if torch.is_tensor(idx):\n",
    "            idx = idx.tolist()\n",
    "\n",
    "        sample = self.data[idx]\n",
    "\n",
    "        audio_tensor = sample['audio']\n",
    "        return audio_tensor"
   ]
  },
  {
   "cell_type": "markdown",
   "id": "c329d688-fe57-4ac0-a102-e8b15d5723af",
   "metadata": {},
   "source": [
    "# torch data module"
   ]
  },
  {
   "cell_type": "code",
   "execution_count": 5,
   "id": "3213266d-45d3-457c-b4b1-e06a85a6c32c",
   "metadata": {},
   "outputs": [],
   "source": [
    "class AudioDataModule(pl.LightningDataModule):\n",
    "    def __init__(self, data, batch_size=32, num_workers=0, persistent_workers=False, shuffle=True):\n",
    "        super().__init__()\n",
    "        self.data = data\n",
    "        self.batch_size = batch_size\n",
    "        self.num_workers = num_workers\n",
    "        self.persistent_workers=persistent_workers\n",
    "        self.shuffle = shuffle\n",
    "\n",
    "    def setup(self, stage=None):\n",
    "        # Split your data here if necessary, e.g., into train, validation, test\n",
    "        self.dataset = AudioDataGenerator(self.data)\n",
    "\n",
    "    def train_dataloader(self):\n",
    "        return DataLoader(self.dataset, batch_size=self.batch_size, shuffle=self.shuffle, num_workers = self.num_workers, persistent_workers=self.persistent_workers)\n",
    "\n",
    "    # Implement val_dataloader() and test_dataloader() if you have validation and test data"
   ]
  },
  {
   "cell_type": "markdown",
   "id": "4f914862-114c-4c94-b9fa-f1a11526fa73",
   "metadata": {},
   "source": [
    "# Teh Model"
   ]
  },
  {
   "cell_type": "code",
   "execution_count": 6,
   "id": "41369077-b581-423a-a907-19d316ebd890",
   "metadata": {},
   "outputs": [],
   "source": [
    "class Autoencoder(pl.LightningModule):\n",
    "    def __init__(self):\n",
    "        super(Autoencoder, self).__init__()\n",
    "\n",
    "        #losses\n",
    "        self.loss_fn_1 = auraloss.freq.RandomResolutionSTFTLoss(\n",
    "                    sample_rate=32000,\n",
    "                    device=\"cuda\"\n",
    "                )\n",
    "        self.loss_fn_2 = auraloss.time.SISDRLoss()\n",
    "        self.loss_fn_3 = torch.nn.L1Loss()\n",
    "        \n",
    "        # Encoder\n",
    "        self.enc_conv1 = nn.Conv1d(1, 256, kernel_size=9, stride=2, padding=4)\n",
    "        self.enc_conv2 = nn.Conv1d(256, 256, kernel_size=9, stride=2, padding=4)\n",
    "        self.enc_conv3 = nn.Conv1d(256, 256, kernel_size=9, stride=2, padding=4)\n",
    "        self.enc_conv4 = nn.Conv1d(256, 256, kernel_size=9, stride=2, padding=4)\n",
    "        self.enc_conv5 = nn.Conv1d(256, 128, kernel_size=9, stride=2, padding=4)\n",
    "        self.enc_conv6 = nn.Conv1d(128, 128, kernel_size=9, stride=2, padding=4)\n",
    "        self.enc_conv7 = nn.Conv1d(128, 128, kernel_size=9, stride=2, padding=4)\n",
    "        self.enc_conv8 = nn.Conv1d(128, 128, kernel_size=9, stride=2, padding=4)\n",
    "        self.enc_conv9 = nn.Conv1d(128, 64, kernel_size=9, stride=2, padding=4)\n",
    "        self.enc_conv10 = nn.Conv1d(64, 64, kernel_size=9, stride=2, padding=4)\n",
    "        self.enc_conv11 = nn.Conv1d(64, 64, kernel_size=9, stride=2, padding=4)\n",
    "        self.enc_conv12 = nn.Conv1d(64,64, kernel_size=9, stride=2, padding=4)\n",
    "        self.enc_conv13 = nn.Conv1d(64, 32, kernel_size=9, stride=2, padding=4)\n",
    "        self.enc_conv14 = nn.Conv1d(32, 32, kernel_size=9, stride=2, padding=4)\n",
    "        self.enc_conv15 = nn.Conv1d(32, 32, kernel_size=9, stride=2, padding=4)\n",
    "        self.enc_conv16 = nn.Conv1d(32, 16, kernel_size=4, stride=2)\n",
    "        \n",
    "        # Decoder\n",
    "        self.dec_conv1 = nn.ConvTranspose1d(16,  32, kernel_size=4, stride=2)\n",
    "        self.dec_conv2 = nn.ConvTranspose1d(32,  32, kernel_size=9, stride=2, padding=3, output_padding=0)\n",
    "        self.dec_conv3 = nn.ConvTranspose1d(32,  32, kernel_size=9, stride=2, padding=3, output_padding=0)\n",
    "        self.dec_conv4 = nn.ConvTranspose1d(32, 64, kernel_size=9, stride=2, padding=3, output_padding=0)\n",
    "        self.dec_conv5 = nn.ConvTranspose1d(64, 64, kernel_size=9, stride=2, padding=3, output_padding=0)\n",
    "        self.dec_conv6 = nn.ConvTranspose1d(64, 64, kernel_size=9, stride=2, padding=4, output_padding=0)\n",
    "        self.dec_conv7 = nn.ConvTranspose1d(64, 64, kernel_size=9, stride=2, padding=4, output_padding=0)\n",
    "        self.dec_conv8 = nn.ConvTranspose1d(64, 128, kernel_size=9, stride=2, padding=4, output_padding=0)\n",
    "        self.dec_conv9 = nn.ConvTranspose1d(128, 128, kernel_size=9, stride=2, padding=4, output_padding=0)\n",
    "        self.dec_conv10 = nn.ConvTranspose1d(128, 128, kernel_size=9, stride=2, padding=3, output_padding=0)\n",
    "        self.dec_conv11 = nn.ConvTranspose1d(128, 128, kernel_size=9, stride=2, padding=3, output_padding=0)\n",
    "        self.dec_conv12 = nn.ConvTranspose1d(128, 256, kernel_size=9, stride=2, padding=3, output_padding=0)\n",
    "        self.dec_conv13 = nn.ConvTranspose1d(256, 256, kernel_size=9, stride=2, padding=3, output_padding=0)\n",
    "        self.dec_conv14 = nn.ConvTranspose1d(256, 256, kernel_size=9, stride=2, padding=3, output_padding=0)\n",
    "        self.dec_conv15 = nn.ConvTranspose1d(256, 256, kernel_size=9, stride=2, padding=3, output_padding=0)\n",
    "        self.dec_conv16 = nn.ConvTranspose1d(256, 1, kernel_size=9, stride=2, padding=2, output_padding=0)\n",
    "\n",
    "    def forward(self, x):\n",
    "        # Encoder\n",
    "        x = self.enc_conv1(x)\n",
    "        x = self.enc_conv2(x)\n",
    "        x = self.enc_conv3(x)\n",
    "        x = self.enc_conv4(x)\n",
    "        x = self.enc_conv5(x)\n",
    "        x = self.enc_conv6(x)\n",
    "        x = self.enc_conv7(x)\n",
    "        x = self.enc_conv8(x)\n",
    "        x = self.enc_conv9(x)\n",
    "        x = self.enc_conv10(x)\n",
    "        x = self.enc_conv11(x)\n",
    "        x = self.enc_conv12(x)\n",
    "        x = self.enc_conv13(x)\n",
    "        x = self.enc_conv14(x)\n",
    "        x = self.enc_conv15(x)\n",
    "        x = self.enc_conv16(x)\n",
    "        encoded = x\n",
    "        \n",
    "        # Decoder\n",
    "        x = self.dec_conv1(x)\n",
    "        x = self.dec_conv2(x)\n",
    "        x = self.dec_conv3(x)\n",
    "        x = self.dec_conv4(x)\n",
    "        x = self.dec_conv5(x)\n",
    "        x = self.dec_conv6(x)\n",
    "        x = self.dec_conv7(x)\n",
    "        x = self.dec_conv8(x)\n",
    "        x = self.dec_conv9(x)\n",
    "        x = self.dec_conv10(x)\n",
    "        x = self.dec_conv11(x)\n",
    "        x = self.dec_conv12(x)\n",
    "        x = self.dec_conv13(x)\n",
    "        x = self.dec_conv14(x)\n",
    "        x = self.dec_conv15(x)\n",
    "        x = self.dec_conv16(x)\n",
    "\n",
    "        x = x[:,:,:160000]\n",
    "        return x, encoded\n",
    "\n",
    "    def compute_loss(self, outputs, ref_signals):\n",
    "        loss = self.loss_fn_1(outputs, ref_signals) + self.loss_fn_2(outputs, ref_signals) + self.loss_fn_3(outputs, ref_signals)\n",
    "        return loss\n",
    "\n",
    "    def training_step(self, batch, batch_idx):\n",
    "        # training_step defines the train loop. It is independent of forward\n",
    "        audio = batch\n",
    "        \n",
    "        output_audio, encoded = self.forward(audio)\n",
    "        # print(outputs.size())\n",
    "\n",
    "        if batch_idx % 64 == 0:\n",
    "            for i in range(4):\n",
    "                input_signal = audio[i].cpu().detach().numpy().T\n",
    "                reconstucted_signal = output_audio[i].cpu().detach().numpy().T\n",
    "                wandb.log({f'audio_input_{i}': [wandb.Audio(input_signal, caption=\"Input\", sample_rate=32000)]})\n",
    "                wandb.log({f'audio_reconstructed_{i}': [wandb.Audio(reconstucted_signal, caption=\"Reconstructed\", sample_rate=32000)]})\n",
    "\n",
    "        # print(audio.shape)\n",
    "        # print(encoded.shape)\n",
    "        # print(output_audio.shape)\n",
    "        loss = self.compute_loss(output_audio, audio)         \n",
    "\n",
    "        self.log('train_loss', loss, on_step=True, on_epoch=True, prog_bar=True, logger=True)\n",
    "        \n",
    "        return loss\n",
    "\n",
    "    def configure_optimizers(self):\n",
    "        # Define your optimizer and optionally learning rate scheduler here\n",
    "        optimizer = optim.Adam(self.parameters(), lr=0.001)\n",
    "        scheduler = lr_scheduler.StepLR(optimizer, step_size=2, gamma=0.99)\n",
    "        return [optimizer], [scheduler]"
   ]
  },
  {
   "cell_type": "markdown",
   "id": "41495611-c201-43dd-8f62-4f76d94ce9b4",
   "metadata": {},
   "source": [
    "# Callbacks "
   ]
  },
  {
   "cell_type": "code",
   "execution_count": 7,
   "id": "2eeb52df-9b86-4786-98ff-284d5e71c654",
   "metadata": {},
   "outputs": [],
   "source": [
    "class SaveModelEveryNSteps(pl.Callback):\n",
    "    def __init__(self, save_step_frequency=512,):\n",
    "        self.save_step_frequency = save_step_frequency\n",
    "        self.save_path = \"D://Github/timbre-tools-hack//Feature_Extraction//models//AE//\"\n",
    "        os.makedirs(self.save_path , exist_ok=True)\n",
    "\n",
    "    def on_train_batch_end(self, trainer, pl_module, outputs, batch, batch_idx):\n",
    "        if (trainer.global_step + 1) % self.save_step_frequency == 0:\n",
    "            checkpoint_path = os.path.join(self.save_path, f\"step_{trainer.global_step + 1}.ckpt\")\n",
    "            trainer.save_checkpoint(checkpoint_path)"
   ]
  },
  {
   "cell_type": "markdown",
   "id": "3b2864b1-8958-4bb4-8b5d-bb28c974bcc7",
   "metadata": {},
   "source": [
    "# Train Loop"
   ]
  },
  {
   "cell_type": "code",
   "execution_count": 8,
   "id": "2bd279ac-e5d6-400c-8e59-83341bd30011",
   "metadata": {},
   "outputs": [],
   "source": [
    "model = Autoencoder()"
   ]
  },
  {
   "cell_type": "code",
   "execution_count": 9,
   "id": "3cf6730f-59d1-4039-a08e-5482031dafe1",
   "metadata": {},
   "outputs": [],
   "source": [
    "wandb_logger = WandbLogger(project='TT-AE', log_model='all')"
   ]
  },
  {
   "cell_type": "code",
   "execution_count": 10,
   "id": "4e91245d-8e66-47cc-b78c-d8f0a670bf47",
   "metadata": {},
   "outputs": [],
   "source": [
    "audio_data_module = AudioDataModule(all_scenes, batch_size=16, num_workers=0, persistent_workers=False)"
   ]
  },
  {
   "cell_type": "code",
   "execution_count": 11,
   "id": "511721ef-4c92-44aa-9ec7-b8cb840e8f37",
   "metadata": {},
   "outputs": [
    {
     "name": "stderr",
     "output_type": "stream",
     "text": [
      "GPU available: True (cuda), used: True\n",
      "TPU available: False, using: 0 TPU cores\n",
      "IPU available: False, using: 0 IPUs\n",
      "HPU available: False, using: 0 HPUs\n"
     ]
    }
   ],
   "source": [
    "trainer = pl.Trainer(\n",
    "    max_epochs=1000,\n",
    "    accelerator=\"gpu\", \n",
    "    devices=-1,\n",
    "    logger=wandb_logger,\n",
    "    callbacks=[SaveModelEveryNSteps()],\n",
    ")"
   ]
  },
  {
   "cell_type": "markdown",
   "id": "8fcea643-a238-449f-b0fe-da5f0c83e019",
   "metadata": {},
   "source": [
    "## Actually fit it"
   ]
  },
  {
   "cell_type": "code",
   "execution_count": null,
   "id": "538322fa-a50b-4a36-8bad-580f974c5294",
   "metadata": {},
   "outputs": [
    {
     "name": "stderr",
     "output_type": "stream",
     "text": [
      "\u001b[34m\u001b[1mwandb\u001b[0m: Currently logged in as: \u001b[33mhephyrius\u001b[0m. Use \u001b[1m`wandb login --relogin`\u001b[0m to force relogin\n"
     ]
    },
    {
     "data": {
      "text/html": [
       "wandb version 0.16.3 is available!  To upgrade, please run:\n",
       " $ pip install wandb --upgrade"
      ],
      "text/plain": [
       "<IPython.core.display.HTML object>"
      ]
     },
     "metadata": {},
     "output_type": "display_data"
    },
    {
     "data": {
      "text/html": [
       "Tracking run with wandb version 0.16.0"
      ],
      "text/plain": [
       "<IPython.core.display.HTML object>"
      ]
     },
     "metadata": {},
     "output_type": "display_data"
    },
    {
     "data": {
      "text/html": [
       "Run data is saved locally in <code>.\\wandb\\run-20240225_043948-uxztnlwx</code>"
      ],
      "text/plain": [
       "<IPython.core.display.HTML object>"
      ]
     },
     "metadata": {},
     "output_type": "display_data"
    },
    {
     "data": {
      "text/html": [
       "Syncing run <strong><a href='https://wandb.ai/hephyrius/TT-AE/runs/uxztnlwx' target=\"_blank\">classic-flower-22</a></strong> to <a href='https://wandb.ai/hephyrius/TT-AE' target=\"_blank\">Weights & Biases</a> (<a href='https://wandb.me/run' target=\"_blank\">docs</a>)<br/>"
      ],
      "text/plain": [
       "<IPython.core.display.HTML object>"
      ]
     },
     "metadata": {},
     "output_type": "display_data"
    },
    {
     "data": {
      "text/html": [
       " View project at <a href='https://wandb.ai/hephyrius/TT-AE' target=\"_blank\">https://wandb.ai/hephyrius/TT-AE</a>"
      ],
      "text/plain": [
       "<IPython.core.display.HTML object>"
      ]
     },
     "metadata": {},
     "output_type": "display_data"
    },
    {
     "data": {
      "text/html": [
       " View run at <a href='https://wandb.ai/hephyrius/TT-AE/runs/uxztnlwx' target=\"_blank\">https://wandb.ai/hephyrius/TT-AE/runs/uxztnlwx</a>"
      ],
      "text/plain": [
       "<IPython.core.display.HTML object>"
      ]
     },
     "metadata": {},
     "output_type": "display_data"
    },
    {
     "name": "stderr",
     "output_type": "stream",
     "text": [
      "LOCAL_RANK: 0 - CUDA_VISIBLE_DEVICES: [0]\n",
      "\n",
      "   | Name       | Type                     | Params\n",
      "---------------------------------------------------------\n",
      "0  | loss_fn_1  | RandomResolutionSTFTLoss | 0     \n",
      "1  | loss_fn_2  | SISDRLoss                | 0     \n",
      "2  | loss_fn_3  | L1Loss                   | 0     \n",
      "3  | enc_conv1  | Conv1d                   | 2.6 K \n",
      "4  | enc_conv2  | Conv1d                   | 590 K \n",
      "5  | enc_conv3  | Conv1d                   | 590 K \n",
      "6  | enc_conv4  | Conv1d                   | 590 K \n",
      "7  | enc_conv5  | Conv1d                   | 295 K \n",
      "8  | enc_conv6  | Conv1d                   | 147 K \n",
      "9  | enc_conv7  | Conv1d                   | 147 K \n",
      "10 | enc_conv8  | Conv1d                   | 147 K \n",
      "11 | enc_conv9  | Conv1d                   | 73.8 K\n",
      "12 | enc_conv10 | Conv1d                   | 36.9 K\n",
      "13 | enc_conv11 | Conv1d                   | 36.9 K\n",
      "14 | enc_conv12 | Conv1d                   | 36.9 K\n",
      "15 | enc_conv13 | Conv1d                   | 18.5 K\n",
      "16 | enc_conv14 | Conv1d                   | 9.2 K \n",
      "17 | enc_conv15 | Conv1d                   | 9.2 K \n",
      "18 | enc_conv16 | Conv1d                   | 2.1 K \n",
      "19 | dec_conv1  | ConvTranspose1d          | 2.1 K \n",
      "20 | dec_conv2  | ConvTranspose1d          | 9.2 K \n",
      "21 | dec_conv3  | ConvTranspose1d          | 9.2 K \n",
      "22 | dec_conv4  | ConvTranspose1d          | 18.5 K\n",
      "23 | dec_conv5  | ConvTranspose1d          | 36.9 K\n",
      "24 | dec_conv6  | ConvTranspose1d          | 36.9 K\n",
      "25 | dec_conv7  | ConvTranspose1d          | 36.9 K\n",
      "26 | dec_conv8  | ConvTranspose1d          | 73.9 K\n",
      "27 | dec_conv9  | ConvTranspose1d          | 147 K \n",
      "28 | dec_conv10 | ConvTranspose1d          | 147 K \n",
      "29 | dec_conv11 | ConvTranspose1d          | 147 K \n",
      "30 | dec_conv12 | ConvTranspose1d          | 295 K \n",
      "31 | dec_conv13 | ConvTranspose1d          | 590 K \n",
      "32 | dec_conv14 | ConvTranspose1d          | 590 K \n",
      "33 | dec_conv15 | ConvTranspose1d          | 590 K \n",
      "34 | dec_conv16 | ConvTranspose1d          | 2.3 K \n",
      "---------------------------------------------------------\n",
      "5.5 M     Trainable params\n",
      "0         Non-trainable params\n",
      "5.5 M     Total params\n",
      "21.873    Total estimated model params size (MB)\n",
      "C:\\Python311\\Lib\\site-packages\\pytorch_lightning\\trainer\\connectors\\data_connector.py:441: The 'train_dataloader' does not have many workers which may be a bottleneck. Consider increasing the value of the `num_workers` argument` to `num_workers=15` in the `DataLoader` to improve performance.\n",
      "C:\\Python311\\Lib\\site-packages\\pytorch_lightning\\loops\\fit_loop.py:293: The number of training batches (7) is smaller than the logging interval Trainer(log_every_n_steps=50). Set a lower value for log_every_n_steps if you want to see logs for the training epoch.\n"
     ]
    },
    {
     "data": {
      "application/vnd.jupyter.widget-view+json": {
       "model_id": "c8529d657d254804a7c5f8157e4c4afe",
       "version_major": 2,
       "version_minor": 0
      },
      "text/plain": [
       "Training: |                                                                                                   …"
      ]
     },
     "metadata": {},
     "output_type": "display_data"
    }
   ],
   "source": [
    "trainer.fit(model, audio_data_module)"
   ]
  },
  {
   "cell_type": "code",
   "execution_count": null,
   "id": "2d953965-18cd-461c-be05-3d34b412f3f0",
   "metadata": {},
   "outputs": [],
   "source": []
  },
  {
   "cell_type": "code",
   "execution_count": null,
   "id": "91f89468-5d8c-455b-a152-2fcd18f8c519",
   "metadata": {},
   "outputs": [],
   "source": []
  },
  {
   "cell_type": "markdown",
   "id": "dd8f2cac-fc6b-4069-85d1-cf4145032db4",
   "metadata": {},
   "source": [
    "#### "
   ]
  }
 ],
 "metadata": {
  "kernelspec": {
   "display_name": "Python 3 (ipykernel)",
   "language": "python",
   "name": "python3"
  },
  "language_info": {
   "codemirror_mode": {
    "name": "ipython",
    "version": 3
   },
   "file_extension": ".py",
   "mimetype": "text/x-python",
   "name": "python",
   "nbconvert_exporter": "python",
   "pygments_lexer": "ipython3",
   "version": "3.11.4"
  }
 },
 "nbformat": 4,
 "nbformat_minor": 5
}
