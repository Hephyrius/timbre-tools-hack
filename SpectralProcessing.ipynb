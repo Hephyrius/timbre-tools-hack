{
 "cells": [
  {
   "cell_type": "code",
   "execution_count": 1,
   "metadata": {},
   "outputs": [
    {
     "name": "stderr",
     "output_type": "stream",
     "text": [
      "Output device: MacBook Pro Speakers (44100Hz, buffer size 512 samples, 2 channels)\n"
     ]
    }
   ],
   "source": [
    "#--------------------------------------------------------------------------------\n",
    "# 02. Spectral processing\n",
    "#\n",
    "# This notebook demonstrates how to use a Fast Fourier Transform (FFT)\n",
    "# to convert an audio source to the frequency domain, and perform spectral\n",
    "# processing operations.\n",
    "#\n",
    "# TODO: Offline rendering example\n",
    "# TODO: Contrast, NoiseGate\n",
    "#--------------------------------------------------------------------------------\n",
    "\n",
    "from signalflow import *\n",
    "graph = AudioGraph()"
   ]
  },
  {
   "cell_type": "code",
   "execution_count": 2,
   "metadata": {},
   "outputs": [],
   "source": [
    "filename = \"audio/sunkilmoon-truckers-atlas-loop.wav\"\n",
    "buffer = Buffer(filename)"
   ]
  },
  {
   "cell_type": "code",
   "execution_count": 17,
   "metadata": {},
   "outputs": [],
   "source": [
    "player = BufferPlayer(buffer, loop=True)\n",
    "\n",
    "#--------------------------------------------------------------------------------\n",
    "# Move mouse to modulate spectral params\n",
    "#--------------------------------------------------------------------------------\n",
    "fft = FFT(player[0], fft_size=1024, hop_size=256, do_window=True)\n",
    "fft = FFTTransform(fft, flip=0, rotate=ScaleLinLin(MouseX(), 0, 1, -120, 120))\n",
    "fft = FFTRandomPhase(fft, level=MouseY())\n",
    "fft = FFTContrast(fft)#, level=MouseX() * 2)\n",
    "ifft = IFFT(fft, do_window=True)\n",
    "ChannelArray([ifft, ifft]).play()"
   ]
  },
  {
   "cell_type": "code",
   "execution_count": 14,
   "metadata": {},
   "outputs": [
    {
     "name": "stdout",
     "output_type": "stream",
     "text": [
      "AudioGraph: 11 active nodes, 0 patches, 2.63% CPU usage, 170.9MB memory usage\n"
     ]
    }
   ],
   "source": [
    "print(graph.status)"
   ]
  },
  {
   "cell_type": "code",
   "execution_count": 18,
   "metadata": {},
   "outputs": [],
   "source": [
    "graph.clear()"
   ]
  },
  {
   "cell_type": "code",
   "execution_count": null,
   "metadata": {},
   "outputs": [],
   "source": []
  }
 ],
 "metadata": {
  "kernelspec": {
   "display_name": "Python 3 (ipykernel)",
   "language": "python",
   "name": "python3"
  },
  "language_info": {
   "codemirror_mode": {
    "name": "ipython",
    "version": 3
   },
   "file_extension": ".py",
   "mimetype": "text/x-python",
   "name": "python",
   "nbconvert_exporter": "python",
   "pygments_lexer": "ipython3",
   "version": "3.9.12"
  }
 },
 "nbformat": 4,
 "nbformat_minor": 4
}
