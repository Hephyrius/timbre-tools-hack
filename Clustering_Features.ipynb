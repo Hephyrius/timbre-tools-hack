{
 "cells": [
  {
   "cell_type": "code",
   "execution_count": 48,
   "id": "211f9b31-590d-45e7-bb2e-a404581d1bba",
   "metadata": {},
   "outputs": [],
   "source": [
    "from audiodiffusion.audio_encoder import AudioEncoder\n",
    "import torchaudio\n",
    "import os\n",
    "from tqdm import tqdm\n",
    "import random as r\n",
    "# from sklearn import KMeans\n",
    "from sklearn.cluster import KMeans\n",
    "from sklearn.decomposition import PCA\n",
    "import pandas as pd\n",
    "import numpy as np\n",
    "import ast"
   ]
  },
  {
   "cell_type": "code",
   "execution_count": 54,
   "id": "1f68e198-bc9b-4443-a519-3f0db7eab85e",
   "metadata": {},
   "outputs": [
    {
     "data": {
      "text/html": [
       "<div>\n",
       "<style scoped>\n",
       "    .dataframe tbody tr th:only-of-type {\n",
       "        vertical-align: middle;\n",
       "    }\n",
       "\n",
       "    .dataframe tbody tr th {\n",
       "        vertical-align: top;\n",
       "    }\n",
       "\n",
       "    .dataframe thead th {\n",
       "        text-align: right;\n",
       "    }\n",
       "</style>\n",
       "<table border=\"1\" class=\"dataframe\">\n",
       "  <thead>\n",
       "    <tr style=\"text-align: right;\">\n",
       "      <th></th>\n",
       "      <th>filename</th>\n",
       "      <th>f0</th>\n",
       "      <th>f1</th>\n",
       "      <th>f2</th>\n",
       "      <th>f3</th>\n",
       "      <th>f4</th>\n",
       "      <th>f5</th>\n",
       "      <th>f6</th>\n",
       "      <th>f7</th>\n",
       "      <th>f8</th>\n",
       "      <th>f9</th>\n",
       "      <th>f10</th>\n",
       "    </tr>\n",
       "  </thead>\n",
       "  <tbody>\n",
       "    <tr>\n",
       "      <th>0</th>\n",
       "      <td>00f8c04e-26c7-4c56-a42d-c80a9201c203</td>\n",
       "      <td>[0, 1, 4, 8]</td>\n",
       "      <td>1.100100e+11</td>\n",
       "      <td>3208.0</td>\n",
       "      <td>[0, 1, 4, 8]</td>\n",
       "      <td>trumpet-section</td>\n",
       "      <td>marcato_muted</td>\n",
       "      <td>0.0</td>\n",
       "      <td>5.0</td>\n",
       "      <td>64.0</td>\n",
       "      <td>72.0</td>\n",
       "      <td>NaN</td>\n",
       "    </tr>\n",
       "    <tr>\n",
       "      <th>1</th>\n",
       "      <td>00f8c04e-26c7-4c56-a42d-c80a9201c203</td>\n",
       "      <td>[0, 1, 4, 8]</td>\n",
       "      <td>1.100100e+11</td>\n",
       "      <td>3208.0</td>\n",
       "      <td>[0, 1, 4, 8]</td>\n",
       "      <td>violin-2-section</td>\n",
       "      <td>tremolo_muted</td>\n",
       "      <td>1.0</td>\n",
       "      <td>7.0</td>\n",
       "      <td>64.0</td>\n",
       "      <td>97.0</td>\n",
       "      <td>NaN</td>\n",
       "    </tr>\n",
       "    <tr>\n",
       "      <th>2</th>\n",
       "      <td>00f8c04e-26c7-4c56-a42d-c80a9201c203</td>\n",
       "      <td>[0, 1, 4, 8]</td>\n",
       "      <td>1.100100e+11</td>\n",
       "      <td>3208.0</td>\n",
       "      <td>[0, 1, 4, 8]</td>\n",
       "      <td>bassoon-section</td>\n",
       "      <td>long</td>\n",
       "      <td>4.0</td>\n",
       "      <td>4.0</td>\n",
       "      <td>10.0</td>\n",
       "      <td>64.0</td>\n",
       "      <td>NaN</td>\n",
       "    </tr>\n",
       "    <tr>\n",
       "      <th>3</th>\n",
       "      <td>00f8c04e-26c7-4c56-a42d-c80a9201c203</td>\n",
       "      <td>[0, 1, 4, 8]</td>\n",
       "      <td>1.100100e+11</td>\n",
       "      <td>3208.0</td>\n",
       "      <td>[0, 1, 4, 8]</td>\n",
       "      <td>bass-trombone-section</td>\n",
       "      <td>staccatissimo_muted</td>\n",
       "      <td>8.0</td>\n",
       "      <td>3.0</td>\n",
       "      <td>127.0</td>\n",
       "      <td>56.0</td>\n",
       "      <td>NaN</td>\n",
       "    </tr>\n",
       "    <tr>\n",
       "      <th>4</th>\n",
       "      <td>0146fef2-ddb7-4ca8-82e2-4fc3e07edba5</td>\n",
       "      <td>[0, 1, 4, 8]</td>\n",
       "      <td>1.100100e+11</td>\n",
       "      <td>3208.0</td>\n",
       "      <td>[0, 1, 4, 8]</td>\n",
       "      <td>trumpet-section</td>\n",
       "      <td>long</td>\n",
       "      <td>0.0</td>\n",
       "      <td>6.0</td>\n",
       "      <td>64.0</td>\n",
       "      <td>84.0</td>\n",
       "      <td>NaN</td>\n",
       "    </tr>\n",
       "    <tr>\n",
       "      <th>...</th>\n",
       "      <td>...</td>\n",
       "      <td>...</td>\n",
       "      <td>...</td>\n",
       "      <td>...</td>\n",
       "      <td>...</td>\n",
       "      <td>...</td>\n",
       "      <td>...</td>\n",
       "      <td>...</td>\n",
       "      <td>...</td>\n",
       "      <td>...</td>\n",
       "      <td>...</td>\n",
       "      <td>...</td>\n",
       "    </tr>\n",
       "    <tr>\n",
       "      <th>108471</th>\n",
       "      <td>febffac3-bccb-45bd-af84-640e87fe8f34</td>\n",
       "      <td>[3, 7, 11]</td>\n",
       "      <td>1.000100e+08</td>\n",
       "      <td>273.0</td>\n",
       "      <td>[0, 4, 8]</td>\n",
       "      <td>timpani-solo</td>\n",
       "      <td>hits_damped_soft</td>\n",
       "      <td>3.0</td>\n",
       "      <td>4.0</td>\n",
       "      <td>64.0</td>\n",
       "      <td>63.0</td>\n",
       "      <td>NaN</td>\n",
       "    </tr>\n",
       "    <tr>\n",
       "      <th>108472</th>\n",
       "      <td>ff4a468f-d81a-4ca4-a92c-f80d268d9269</td>\n",
       "      <td>[3, 7, 11]</td>\n",
       "      <td>1.000100e+08</td>\n",
       "      <td>273.0</td>\n",
       "      <td>[0, 4, 8]</td>\n",
       "      <td>string-bass-section</td>\n",
       "      <td>long</td>\n",
       "      <td>3.0</td>\n",
       "      <td>1.0</td>\n",
       "      <td>127.0</td>\n",
       "      <td>27.0</td>\n",
       "      <td>NaN</td>\n",
       "    </tr>\n",
       "    <tr>\n",
       "      <th>108473</th>\n",
       "      <td>ff4a468f-d81a-4ca4-a92c-f80d268d9269</td>\n",
       "      <td>[3, 7, 11]</td>\n",
       "      <td>1.000100e+08</td>\n",
       "      <td>273.0</td>\n",
       "      <td>[0, 4, 8]</td>\n",
       "      <td>cello-section</td>\n",
       "      <td>long</td>\n",
       "      <td>7.0</td>\n",
       "      <td>2.0</td>\n",
       "      <td>10.0</td>\n",
       "      <td>43.0</td>\n",
       "      <td>NaN</td>\n",
       "    </tr>\n",
       "    <tr>\n",
       "      <th>108474</th>\n",
       "      <td>ff4a468f-d81a-4ca4-a92c-f80d268d9269</td>\n",
       "      <td>[3, 7, 11]</td>\n",
       "      <td>1.000100e+08</td>\n",
       "      <td>273.0</td>\n",
       "      <td>[0, 4, 8]</td>\n",
       "      <td>violin-2-section</td>\n",
       "      <td>flautando</td>\n",
       "      <td>11.0</td>\n",
       "      <td>5.0</td>\n",
       "      <td>64.0</td>\n",
       "      <td>83.0</td>\n",
       "      <td>NaN</td>\n",
       "    </tr>\n",
       "    <tr>\n",
       "      <th>108475</th>\n",
       "      <td>ff4a468f-d81a-4ca4-a92c-f80d268d9269</td>\n",
       "      <td>[3, 7, 11]</td>\n",
       "      <td>1.000100e+08</td>\n",
       "      <td>273.0</td>\n",
       "      <td>[0, 4, 8]</td>\n",
       "      <td>clarinet-solo</td>\n",
       "      <td>multitongue</td>\n",
       "      <td>11.0</td>\n",
       "      <td>5.0</td>\n",
       "      <td>127.0</td>\n",
       "      <td>83.0</td>\n",
       "      <td>NaN</td>\n",
       "    </tr>\n",
       "  </tbody>\n",
       "</table>\n",
       "<p>108476 rows × 12 columns</p>\n",
       "</div>"
      ],
      "text/plain": [
       "                                    filename            f0            f1  \\\n",
       "0       00f8c04e-26c7-4c56-a42d-c80a9201c203  [0, 1, 4, 8]  1.100100e+11   \n",
       "1       00f8c04e-26c7-4c56-a42d-c80a9201c203  [0, 1, 4, 8]  1.100100e+11   \n",
       "2       00f8c04e-26c7-4c56-a42d-c80a9201c203  [0, 1, 4, 8]  1.100100e+11   \n",
       "3       00f8c04e-26c7-4c56-a42d-c80a9201c203  [0, 1, 4, 8]  1.100100e+11   \n",
       "4       0146fef2-ddb7-4ca8-82e2-4fc3e07edba5  [0, 1, 4, 8]  1.100100e+11   \n",
       "...                                      ...           ...           ...   \n",
       "108471  febffac3-bccb-45bd-af84-640e87fe8f34    [3, 7, 11]  1.000100e+08   \n",
       "108472  ff4a468f-d81a-4ca4-a92c-f80d268d9269    [3, 7, 11]  1.000100e+08   \n",
       "108473  ff4a468f-d81a-4ca4-a92c-f80d268d9269    [3, 7, 11]  1.000100e+08   \n",
       "108474  ff4a468f-d81a-4ca4-a92c-f80d268d9269    [3, 7, 11]  1.000100e+08   \n",
       "108475  ff4a468f-d81a-4ca4-a92c-f80d268d9269    [3, 7, 11]  1.000100e+08   \n",
       "\n",
       "            f2            f3                     f4                   f5  \\\n",
       "0       3208.0  [0, 1, 4, 8]        trumpet-section        marcato_muted   \n",
       "1       3208.0  [0, 1, 4, 8]       violin-2-section        tremolo_muted   \n",
       "2       3208.0  [0, 1, 4, 8]        bassoon-section                 long   \n",
       "3       3208.0  [0, 1, 4, 8]  bass-trombone-section  staccatissimo_muted   \n",
       "4       3208.0  [0, 1, 4, 8]        trumpet-section                 long   \n",
       "...        ...           ...                    ...                  ...   \n",
       "108471   273.0     [0, 4, 8]           timpani-solo     hits_damped_soft   \n",
       "108472   273.0     [0, 4, 8]    string-bass-section                 long   \n",
       "108473   273.0     [0, 4, 8]          cello-section                 long   \n",
       "108474   273.0     [0, 4, 8]       violin-2-section            flautando   \n",
       "108475   273.0     [0, 4, 8]          clarinet-solo          multitongue   \n",
       "\n",
       "          f6   f7     f8    f9  f10  \n",
       "0        0.0  5.0   64.0  72.0  NaN  \n",
       "1        1.0  7.0   64.0  97.0  NaN  \n",
       "2        4.0  4.0   10.0  64.0  NaN  \n",
       "3        8.0  3.0  127.0  56.0  NaN  \n",
       "4        0.0  6.0   64.0  84.0  NaN  \n",
       "...      ...  ...    ...   ...  ...  \n",
       "108471   3.0  4.0   64.0  63.0  NaN  \n",
       "108472   3.0  1.0  127.0  27.0  NaN  \n",
       "108473   7.0  2.0   10.0  43.0  NaN  \n",
       "108474  11.0  5.0   64.0  83.0  NaN  \n",
       "108475  11.0  5.0  127.0  83.0  NaN  \n",
       "\n",
       "[108476 rows x 12 columns]"
      ]
     },
     "execution_count": 54,
     "metadata": {},
     "output_type": "execute_result"
    }
   ],
   "source": [
    "df"
   ]
  },
  {
   "cell_type": "code",
   "execution_count": 56,
   "id": "56f0fcc4-6e0c-48bc-92aa-08ff2715c3a4",
   "metadata": {},
   "outputs": [
    {
     "data": {
      "text/plain": [
       "[array([     0,      1,      2, ..., 108473, 108474, 108475], dtype=int64),\n",
       " array([11, 11, 11, ..., 11, 11, 11], dtype=int64)]"
      ]
     },
     "execution_count": 56,
     "metadata": {},
     "output_type": "execute_result"
    }
   ],
   "source": [
    "list(np.where(pd.isnull(df)))"
   ]
  },
  {
   "cell_type": "code",
   "execution_count": 49,
   "id": "f47bba78-2f43-4d15-9dcf-c1a3dad9f0ee",
   "metadata": {},
   "outputs": [
    {
     "data": {
      "text/plain": [
       "array([['00f8c04e-26c7-4c56-a42d-c80a9201c203', '[0, 1, 4, 8]',\n",
       "        110010000000.0, ..., 64.0, 72.0, nan],\n",
       "       ['00f8c04e-26c7-4c56-a42d-c80a9201c203', '[0, 1, 4, 8]',\n",
       "        110010000000.0, ..., 64.0, 97.0, nan],\n",
       "       ['00f8c04e-26c7-4c56-a42d-c80a9201c203', '[0, 1, 4, 8]',\n",
       "        110010000000.0, ..., 10.0, 64.0, nan],\n",
       "       ...,\n",
       "       ['ff4a468f-d81a-4ca4-a92c-f80d268d9269', '[3, 7, 11]',\n",
       "        100010001.0, ..., 10.0, 43.0, nan],\n",
       "       ['ff4a468f-d81a-4ca4-a92c-f80d268d9269', '[3, 7, 11]',\n",
       "        100010001.0, ..., 64.0, 83.0, nan],\n",
       "       ['ff4a468f-d81a-4ca4-a92c-f80d268d9269', '[3, 7, 11]',\n",
       "        100010001.0, ..., 127.0, 83.0, nan]], dtype=object)"
      ]
     },
     "execution_count": 49,
     "metadata": {},
     "output_type": "execute_result"
    }
   ],
   "source": [
    "df = pd.read_csv(\"Data/ocd_details.csv\")\n",
    "columns = list(df.columns)\n",
    "np.asarray(df)\n",
    "\n",
    "\n",
    "\n"
   ]
  },
  {
   "cell_type": "code",
   "execution_count": null,
   "id": "380caa1f-2806-45cb-a4c0-9e96023dfdcf",
   "metadata": {},
   "outputs": [
    {
     "name": "stderr",
     "output_type": "stream",
     "text": [
      "  6%|███████▍                                                                                                                             | 1518/27131 [01:32<23:52, 17.88it/s]"
     ]
    }
   ],
   "source": [
    "path = \"data/rendered_audio/rendered_audio/\"\n",
    "files = os.listdir(path)\n",
    "r.shuffle(files)\n",
    "fs = []\n",
    "embeddings = []\n",
    "\n",
    "for file in tqdm(files):\n",
    "    if \".flac\" in file:\n",
    "        full_path = path + file\n",
    "        fs.append(full_path)\n",
    "        audio, _ = torchaudio.load(full_path)\n",
    "        encoding = audio_encoder.encode([full_path])\n",
    "        embeddings.append(encoding.squeeze(0).numpy())\n",
    "\n"
   ]
  },
  {
   "cell_type": "code",
   "execution_count": 53,
   "id": "2b550690-4c5b-4fd7-851b-5842f82e15ad",
   "metadata": {},
   "outputs": [
    {
     "ename": "ValueError",
     "evalue": "malformed node or string on line 1: <ast.Name object at 0x000001D5C0907D90>",
     "output_type": "error",
     "traceback": [
      "\u001b[1;31m---------------------------------------------------------------------------\u001b[0m",
      "\u001b[1;31mValueError\u001b[0m                                Traceback (most recent call last)",
      "Cell \u001b[1;32mIn[53], line 4\u001b[0m\n\u001b[0;32m      2\u001b[0m feat_list \u001b[38;5;241m=\u001b[39m \u001b[38;5;28mlist\u001b[39m(df_feats[\u001b[38;5;124m'\u001b[39m\u001b[38;5;124mf0\u001b[39m\u001b[38;5;124m'\u001b[39m])\n\u001b[0;32m      3\u001b[0m feat_list \u001b[38;5;241m=\u001b[39m [\u001b[38;5;28mstr\u001b[39m(f) \u001b[38;5;28;01mfor\u001b[39;00m f \u001b[38;5;129;01min\u001b[39;00m feat_list]\n\u001b[1;32m----> 4\u001b[0m feat_list \u001b[38;5;241m=\u001b[39m \u001b[43m[\u001b[49m\u001b[43mast\u001b[49m\u001b[38;5;241;43m.\u001b[39;49m\u001b[43mliteral_eval\u001b[49m\u001b[43m(\u001b[49m\u001b[43mf\u001b[49m\u001b[43m)\u001b[49m\u001b[43m \u001b[49m\u001b[38;5;28;43;01mfor\u001b[39;49;00m\u001b[43m \u001b[49m\u001b[43mf\u001b[49m\u001b[43m \u001b[49m\u001b[38;5;129;43;01min\u001b[39;49;00m\u001b[43m \u001b[49m\u001b[43mfeat_list\u001b[49m\u001b[43m]\u001b[49m\n",
      "Cell \u001b[1;32mIn[53], line 4\u001b[0m, in \u001b[0;36m<listcomp>\u001b[1;34m(.0)\u001b[0m\n\u001b[0;32m      2\u001b[0m feat_list \u001b[38;5;241m=\u001b[39m \u001b[38;5;28mlist\u001b[39m(df_feats[\u001b[38;5;124m'\u001b[39m\u001b[38;5;124mf0\u001b[39m\u001b[38;5;124m'\u001b[39m])\n\u001b[0;32m      3\u001b[0m feat_list \u001b[38;5;241m=\u001b[39m [\u001b[38;5;28mstr\u001b[39m(f) \u001b[38;5;28;01mfor\u001b[39;00m f \u001b[38;5;129;01min\u001b[39;00m feat_list]\n\u001b[1;32m----> 4\u001b[0m feat_list \u001b[38;5;241m=\u001b[39m [\u001b[43mast\u001b[49m\u001b[38;5;241;43m.\u001b[39;49m\u001b[43mliteral_eval\u001b[49m\u001b[43m(\u001b[49m\u001b[43mf\u001b[49m\u001b[43m)\u001b[49m \u001b[38;5;28;01mfor\u001b[39;00m f \u001b[38;5;129;01min\u001b[39;00m feat_list]\n",
      "File \u001b[1;32mC:\\Python311\\Lib\\ast.py:110\u001b[0m, in \u001b[0;36mliteral_eval\u001b[1;34m(node_or_string)\u001b[0m\n\u001b[0;32m    108\u001b[0m                 \u001b[38;5;28;01mreturn\u001b[39;00m left \u001b[38;5;241m-\u001b[39m right\n\u001b[0;32m    109\u001b[0m     \u001b[38;5;28;01mreturn\u001b[39;00m _convert_signed_num(node)\n\u001b[1;32m--> 110\u001b[0m \u001b[38;5;28;01mreturn\u001b[39;00m \u001b[43m_convert\u001b[49m\u001b[43m(\u001b[49m\u001b[43mnode_or_string\u001b[49m\u001b[43m)\u001b[49m\n",
      "File \u001b[1;32mC:\\Python311\\Lib\\ast.py:109\u001b[0m, in \u001b[0;36mliteral_eval.<locals>._convert\u001b[1;34m(node)\u001b[0m\n\u001b[0;32m    107\u001b[0m         \u001b[38;5;28;01melse\u001b[39;00m:\n\u001b[0;32m    108\u001b[0m             \u001b[38;5;28;01mreturn\u001b[39;00m left \u001b[38;5;241m-\u001b[39m right\n\u001b[1;32m--> 109\u001b[0m \u001b[38;5;28;01mreturn\u001b[39;00m \u001b[43m_convert_signed_num\u001b[49m\u001b[43m(\u001b[49m\u001b[43mnode\u001b[49m\u001b[43m)\u001b[49m\n",
      "File \u001b[1;32mC:\\Python311\\Lib\\ast.py:83\u001b[0m, in \u001b[0;36mliteral_eval.<locals>._convert_signed_num\u001b[1;34m(node)\u001b[0m\n\u001b[0;32m     81\u001b[0m     \u001b[38;5;28;01melse\u001b[39;00m:\n\u001b[0;32m     82\u001b[0m         \u001b[38;5;28;01mreturn\u001b[39;00m \u001b[38;5;241m-\u001b[39m operand\n\u001b[1;32m---> 83\u001b[0m \u001b[38;5;28;01mreturn\u001b[39;00m \u001b[43m_convert_num\u001b[49m\u001b[43m(\u001b[49m\u001b[43mnode\u001b[49m\u001b[43m)\u001b[49m\n",
      "File \u001b[1;32mC:\\Python311\\Lib\\ast.py:74\u001b[0m, in \u001b[0;36mliteral_eval.<locals>._convert_num\u001b[1;34m(node)\u001b[0m\n\u001b[0;32m     72\u001b[0m \u001b[38;5;28;01mdef\u001b[39;00m \u001b[38;5;21m_convert_num\u001b[39m(node):\n\u001b[0;32m     73\u001b[0m     \u001b[38;5;28;01mif\u001b[39;00m \u001b[38;5;129;01mnot\u001b[39;00m \u001b[38;5;28misinstance\u001b[39m(node, Constant) \u001b[38;5;129;01mor\u001b[39;00m \u001b[38;5;28mtype\u001b[39m(node\u001b[38;5;241m.\u001b[39mvalue) \u001b[38;5;129;01mnot\u001b[39;00m \u001b[38;5;129;01min\u001b[39;00m (\u001b[38;5;28mint\u001b[39m, \u001b[38;5;28mfloat\u001b[39m, \u001b[38;5;28mcomplex\u001b[39m):\n\u001b[1;32m---> 74\u001b[0m         \u001b[43m_raise_malformed_node\u001b[49m\u001b[43m(\u001b[49m\u001b[43mnode\u001b[49m\u001b[43m)\u001b[49m\n\u001b[0;32m     75\u001b[0m     \u001b[38;5;28;01mreturn\u001b[39;00m node\u001b[38;5;241m.\u001b[39mvalue\n",
      "File \u001b[1;32mC:\\Python311\\Lib\\ast.py:71\u001b[0m, in \u001b[0;36mliteral_eval.<locals>._raise_malformed_node\u001b[1;34m(node)\u001b[0m\n\u001b[0;32m     69\u001b[0m \u001b[38;5;28;01mif\u001b[39;00m lno \u001b[38;5;241m:=\u001b[39m \u001b[38;5;28mgetattr\u001b[39m(node, \u001b[38;5;124m'\u001b[39m\u001b[38;5;124mlineno\u001b[39m\u001b[38;5;124m'\u001b[39m, \u001b[38;5;28;01mNone\u001b[39;00m):\n\u001b[0;32m     70\u001b[0m     msg \u001b[38;5;241m+\u001b[39m\u001b[38;5;241m=\u001b[39m \u001b[38;5;124mf\u001b[39m\u001b[38;5;124m'\u001b[39m\u001b[38;5;124m on line \u001b[39m\u001b[38;5;132;01m{\u001b[39;00mlno\u001b[38;5;132;01m}\u001b[39;00m\u001b[38;5;124m'\u001b[39m\n\u001b[1;32m---> 71\u001b[0m \u001b[38;5;28;01mraise\u001b[39;00m \u001b[38;5;167;01mValueError\u001b[39;00m(msg \u001b[38;5;241m+\u001b[39m \u001b[38;5;124mf\u001b[39m\u001b[38;5;124m'\u001b[39m\u001b[38;5;124m: \u001b[39m\u001b[38;5;132;01m{\u001b[39;00mnode\u001b[38;5;132;01m!r}\u001b[39;00m\u001b[38;5;124m'\u001b[39m)\n",
      "\u001b[1;31mValueError\u001b[0m: malformed node or string on line 1: <ast.Name object at 0x000001D5C0907D90>"
     ]
    }
   ],
   "source": [
    "df_feats = df.drop(['filename', 'f10'], axis=1)\n",
    "feat_list = list(df_feats['f0'])\n",
    "feat_list = [str(f) for f in feat_list]\n",
    "feat_list = [ast.literal_eval(f) for f in feat_list]"
   ]
  },
  {
   "cell_type": "code",
   "execution_count": 51,
   "id": "40d27f80-b858-4802-9785-5a52f278f851",
   "metadata": {},
   "outputs": [
    {
     "data": {
      "text/plain": [
       "[0, 1, 4, 8]"
      ]
     },
     "execution_count": 51,
     "metadata": {},
     "output_type": "execute_result"
    }
   ],
   "source": []
  },
  {
   "cell_type": "code",
   "execution_count": null,
   "id": "aa81d876-f94a-4bb5-9b96-56bd00009a00",
   "metadata": {},
   "outputs": [],
   "source": [
    "pca = PCA(n_components=2, svd_solver='full')\n",
    "pca_ = pca.fit_transform(embeddings)"
   ]
  },
  {
   "cell_type": "code",
   "execution_count": null,
   "id": "e4cbde83-ec6c-4769-a906-f04ed849fc01",
   "metadata": {},
   "outputs": [],
   "source": [
    "kmean_model = KMeans(n_clusters=6).fit(embeddings)"
   ]
  },
  {
   "cell_type": "code",
   "execution_count": null,
   "id": "c8f7ca6c-a26e-4043-91e0-27f458d69c07",
   "metadata": {},
   "outputs": [],
   "source": [
    "labels = kmean_model.predict(embeddings)"
   ]
  },
  {
   "cell_type": "code",
   "execution_count": null,
   "id": "4adbdf31-50bb-458f-9b1a-013a19031ff2",
   "metadata": {},
   "outputs": [],
   "source": [
    "feature_a = []\n",
    "feature_b = []\n",
    "\n",
    "for i in pca_:\n",
    "    feature_a.append(i[0])\n",
    "    feature_b.append(i[1])"
   ]
  },
  {
   "cell_type": "code",
   "execution_count": null,
   "id": "1145fa6e-5101-436c-b30a-b4d07fad33fe",
   "metadata": {},
   "outputs": [],
   "source": [
    "import matplotlib.pyplot as plt\n",
    " \n",
    "#plotting the results\n",
    "plt.scatter(feature_a, feature_b, c=labels)\n",
    "plt.show()"
   ]
  },
  {
   "cell_type": "code",
   "execution_count": null,
   "id": "33e8d43b-dd6f-4ff7-a989-633ec200bdfb",
   "metadata": {},
   "outputs": [],
   "source": [
    "import pandas as pd\n",
    "\n",
    "df = pd.DataFrame()\n",
    "df['file'] = fs[:23900]\n",
    "df['label'] = labels[:23900]"
   ]
  },
  {
   "cell_type": "code",
   "execution_count": null,
   "id": "02e48fa1-b4cc-4978-bb3f-00f107a33694",
   "metadata": {},
   "outputs": [],
   "source": [
    "df"
   ]
  },
  {
   "cell_type": "code",
   "execution_count": null,
   "id": "cef25261-5e45-4569-80f5-944d05777af0",
   "metadata": {},
   "outputs": [],
   "source": []
  },
  {
   "cell_type": "code",
   "execution_count": null,
   "id": "8884a1a6-455b-45ff-ab82-bd1767c33a38",
   "metadata": {},
   "outputs": [],
   "source": []
  },
  {
   "cell_type": "code",
   "execution_count": null,
   "id": "3e56e8bf-47a5-40d2-902e-ee506b49c99a",
   "metadata": {},
   "outputs": [],
   "source": []
  }
 ],
 "metadata": {
  "kernelspec": {
   "display_name": "Python 3 (ipykernel)",
   "language": "python",
   "name": "python3"
  },
  "language_info": {
   "codemirror_mode": {
    "name": "ipython",
    "version": 3
   },
   "file_extension": ".py",
   "mimetype": "text/x-python",
   "name": "python",
   "nbconvert_exporter": "python",
   "pygments_lexer": "ipython3",
   "version": "3.11.4"
  }
 },
 "nbformat": 4,
 "nbformat_minor": 5
}
