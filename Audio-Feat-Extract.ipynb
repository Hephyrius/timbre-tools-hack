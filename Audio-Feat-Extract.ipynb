{
 "cells": [
  {
   "cell_type": "code",
   "execution_count": 1,
   "id": "211f9b31-590d-45e7-bb2e-a404581d1bba",
   "metadata": {},
   "outputs": [],
   "source": [
    "import librosa\n",
    "import torchaudio\n",
    "import os\n",
    "from tqdm import tqdm\n",
    "import random as r\n",
    "# from sklearn import KMeans\n",
    "from sklearn.cluster import KMeans\n",
    "from sklearn.decomposition import PCA\n",
    "import sklearn\n",
    "import pickle \n",
    "import matplotlib.pyplot as plt"
   ]
  },
  {
   "cell_type": "code",
   "execution_count": 2,
   "id": "f897ebf3-45c8-4621-b168-e40ac9841228",
   "metadata": {},
   "outputs": [],
   "source": [
    "import numpy as np\n",
    "import librosa\n",
    "import scipy.signal\n",
    "\n",
    "def extract_features(audio, sr):\n",
    "    # Assuming `audio` is a 1D numpy array representing the audio clip\n",
    "    # and `sr` is the sample rate\n",
    "\n",
    "    # Spectral Centroid\n",
    "    spectral_centroid = librosa.feature.spectral_centroid(y=audio, sr=sr)\n",
    "    \n",
    "    # Spectral Flux\n",
    "    onset_env = librosa.onset.onset_strength(y=audio, sr=sr)\n",
    "    spectral_flux = np.diff(onset_env)\n",
    "    \n",
    "    # Spectral Flatness\n",
    "    spectral_flatness = librosa.feature.spectral_flatness(y=audio)\n",
    "    \n",
    "    # CQT for Harmonic Analysis\n",
    "    cqt = np.abs(librosa.cqt(y=audio, sr=sr))\n",
    "    \n",
    "    # Spectral Rolloff\n",
    "    spectral_rolloff = librosa.feature.spectral_rolloff(y=audio, sr=sr)\n",
    "    \n",
    "    # LPC - Correct Implementation\n",
    "    # lpc_order = 16\n",
    "    # audio_mono = librosa.to_mono(audio)\n",
    "    # # lpc_coeffs, _ = scipy.signal.lfilter([1], 1, audio_mono)  # Placeholder for correct LPC calculation\n",
    "    \n",
    "    # # # Correct LPC implementation placeholder\n",
    "    # # # Assuming scipy.signal.find_lpc or similar function:\n",
    "    # lpc_coeffs, _ = scipy.signal.find_peaks(audio_mono, lpc_order)\n",
    "\n",
    "    # Concatenate all features\n",
    "    # For simplicity, here we just show placeholders for how these features might be concatenated\n",
    "    features = np.concatenate([\n",
    "        np.mean(spectral_centroid, axis=1),  # Mean spectral centroid\n",
    "        spectral_flux,  # Spectral flux as is, may require further processing\n",
    "        np.mean(spectral_flatness, axis=1),  # Mean spectral flatness\n",
    "        np.mean(cqt, axis=1),  # Mean across CQT bins\n",
    "        np.mean(spectral_rolloff, axis=1),  # Mean spectral rolloff\n",
    "        # lpc_coeffs  # Placeholder for LPC coefficients, needs correct calculation\n",
    "    ])\n",
    "    \n",
    "    return features"
   ]
  },
  {
   "cell_type": "code",
   "execution_count": null,
   "id": "380caa1f-2806-45cb-a4c0-9e96023dfdcf",
   "metadata": {},
   "outputs": [
    {
     "name": "stderr",
     "output_type": "stream",
     "text": [
      "  9%|████████████▌                                                                                                                        | 2556/27131 [03:49<39:32, 10.36it/s]"
     ]
    }
   ],
   "source": [
    "path = \"data/rendered_audio/rendered_audio/\"\n",
    "files = os.listdir(path)\n",
    "r.shuffle(files)\n",
    "fs = []\n",
    "embeddings = []\n",
    "\n",
    "for file in tqdm(files):\n",
    "    if \".flac\" in file:\n",
    "        try:\n",
    "            full_path = path + file\n",
    "            audio, _ = torchaudio.load(full_path)\n",
    "            audio_2 = audio.squeeze(0).numpy()\n",
    "            features = extract_features(audio_2, 44100)\n",
    "            embeddings.append(features)\n",
    "            fs.append(full_path)\n",
    "        except Exception as e:\n",
    "            print(\"error\", e)\n",
    "            \n"
   ]
  },
  {
   "cell_type": "code",
   "execution_count": null,
   "id": "f35d7feb-d62a-4c36-86b9-e2a4f473e0b5",
   "metadata": {},
   "outputs": [],
   "source": [
    "emb = [e.flatten() for e in embeddings]"
   ]
  },
  {
   "cell_type": "code",
   "execution_count": null,
   "id": "aa81d876-f94a-4bb5-9b96-56bd00009a00",
   "metadata": {},
   "outputs": [],
   "source": [
    "pca = PCA(n_components=3, svd_solver='full')\n",
    "pca_ = pca.fit_transform(emb)"
   ]
  },
  {
   "cell_type": "code",
   "execution_count": null,
   "id": "e4cbde83-ec6c-4769-a906-f04ed849fc01",
   "metadata": {},
   "outputs": [],
   "source": [
    "kmean_model = KMeans(n_clusters=11).fit(pca_)"
   ]
  },
  {
   "cell_type": "code",
   "execution_count": null,
   "id": "c8f7ca6c-a26e-4043-91e0-27f458d69c07",
   "metadata": {},
   "outputs": [],
   "source": [
    "labels = kmean_model.predict(pca_)"
   ]
  },
  {
   "cell_type": "code",
   "execution_count": null,
   "id": "4adbdf31-50bb-458f-9b1a-013a19031ff2",
   "metadata": {},
   "outputs": [],
   "source": [
    "feature_a = []\n",
    "feature_b = []\n",
    "feature_c = []\n",
    "# feature_d = []\n",
    "# feature_e = []\n",
    "\n",
    "for i in pca_:\n",
    "    feature_a.append(i[0])\n",
    "    feature_b.append(i[1])\n",
    "    feature_c.append(i[2])\n",
    "    # feature_d.append(i[3])\n",
    "    # feature_e.append(i[4])"
   ]
  },
  {
   "cell_type": "code",
   "execution_count": null,
   "id": "1145fa6e-5101-436c-b30a-b4d07fad33fe",
   "metadata": {},
   "outputs": [],
   "source": [
    "plots = [feature_a, feature_b, feature_c]#, feature_d, feature_e]\n",
    "\n",
    "for idx, val in enumerate(plots):\n",
    "    for idx1, val1 in enumerate(plots):\n",
    "        if idx > idx1:\n",
    "            #plotting the results\n",
    "            plt.scatter(val, val1, c=labels)\n",
    "            plt.show()"
   ]
  },
  {
   "cell_type": "code",
   "execution_count": null,
   "id": "33e8d43b-dd6f-4ff7-a989-633ec200bdfb",
   "metadata": {},
   "outputs": [],
   "source": [
    "# import pandas as pd\n",
    "\n",
    "# df = pd.DataFrame()\n",
    "# df['file'] = fs\n",
    "# df['label'] = labels\n",
    "# df['pca_feature_a'] = feature_a\n",
    "# df['pca_feature_b'] = feature_b\n",
    "# df['pca_feature_c'] = feature_c"
   ]
  },
  {
   "cell_type": "code",
   "execution_count": null,
   "id": "02e48fa1-b4cc-4978-bb3f-00f107a33694",
   "metadata": {},
   "outputs": [],
   "source": [
    "df"
   ]
  },
  {
   "cell_type": "code",
   "execution_count": null,
   "id": "8884a1a6-455b-45ff-ab82-bd1767c33a38",
   "metadata": {},
   "outputs": [],
   "source": [
    "import plotly.graph_objs as go\n",
    "import plotly.offline as py\n",
    "\n",
    "import pandas as pd\n",
    "import numpy as np\n",
    "from ipywidgets import interactive, HBox, VBox\n",
    "\n",
    "py.init_notebook_mode()\n",
    "\n",
    "f = go.FigureWidget([go.Scatter3d(x = df['pca_feature_a'], y = df['pca_feature_b'], z=df['pca_feature_c'])])\n",
    "scatter = f.data[0]\n",
    "N = len(df)\n",
    "scatter.x = scatter.x + np.random.rand(N)/10 *(df['pca_feature_a'].max() - df['pca_feature_a'].min())\n",
    "scatter.y = scatter.y + np.random.rand(N)/10 *(df['pca_feature_b'].max() - df['pca_feature_b'].min())\n",
    "scatter.z = scatter.z + np.random.rand(N)/10 *(df['pca_feature_c'].max() - df['pca_feature_c'].min())\n",
    "scatter.marker.opacity = 0.5\n",
    "\n",
    "def update_axes(xaxis, yaxis, zaxis):\n",
    "    scatter = f.data[0]\n",
    "    scatter.x = df[xaxis]\n",
    "    scatter.y = df[yaxis]\n",
    "    scatter.z = df[zaxis]\n",
    "    with f.batch_update():\n",
    "        f.layout.xaxis.title = xaxis\n",
    "        f.layout.yaxis.title = yaxis\n",
    "        f.layout.zaxis.title = zaxis\n",
    "        scatter.x = scatter.x + np.random.rand(N)/10 *(df[xaxis].max() - df[xaxis].min())\n",
    "        scatter.y = scatter.y + np.random.rand(N)/10 *(df[yaxis].max() - df[yaxis].min())\n",
    "        scatter.z = scatter.y + np.random.rand(N)/10 *(df[yaxis].max() - df[yaxis].min())\n",
    "\n",
    "axis_dropdowns = interactive(update_axes, xaxis = df.select_dtypes('int64').columns, yaxis = df.select_dtypes('int64').columns,  zaxis = df.select_dtypes('int64').columns)\n",
    "\n",
    "# # Create a table FigureWidget that updates on selection from points in the scatter plot of f\n",
    "# t = go.FigureWidget([go.Table(\n",
    "#     header=dict(values=['pca_feature_a','pca_feature_b','pca_feature_c'],\n",
    "#                 fill = dict(color='#C2D4FF'),\n",
    "#                 align = ['left'] * 5),\n",
    "#     cells=dict(values=[df[col] for col in ['pca_feature_a','pca_feature_b','pca_feature_c']],\n",
    "#                fill = dict(color='#F5F8FF'),\n",
    "#                align = ['left'] * 5))])\n",
    "\n",
    "# def selection_fn(trace,points,selector):\n",
    "#     t.data[0].cells.values = [df.loc[points.point_inds][col] for col in ['pca_feature_a','pca_feature_b','pca_feature_c']]\n",
    "\n",
    "# scatter.on_selection(selection_fn)\n",
    "\n",
    "# Put everything together\n",
    "VBox((HBox(axis_dropdowns.children),f,t))"
   ]
  }
 ],
 "metadata": {
  "kernelspec": {
   "display_name": "Python 3 (ipykernel)",
   "language": "python",
   "name": "python3"
  },
  "language_info": {
   "codemirror_mode": {
    "name": "ipython",
    "version": 3
   },
   "file_extension": ".py",
   "mimetype": "text/x-python",
   "name": "python",
   "nbconvert_exporter": "python",
   "pygments_lexer": "ipython3",
   "version": "3.11.4"
  }
 },
 "nbformat": 4,
 "nbformat_minor": 5
}
